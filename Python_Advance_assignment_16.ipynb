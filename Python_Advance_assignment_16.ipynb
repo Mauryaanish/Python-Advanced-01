{
  "nbformat": 4,
  "nbformat_minor": 0,
  "metadata": {
    "colab": {
      "provenance": []
    },
    "kernelspec": {
      "name": "python3",
      "display_name": "Python 3"
    },
    "language_info": {
      "name": "python"
    }
  },
  "cells": [
    {
      "cell_type": "markdown",
      "source": [
        "Q1. What is the benefit of regular expressions?\n",
        "\n",
        "Answer:- Regular Expressions, also known as regex or regexp, are used to match strings of text such as particular characters, words, or patterns of characters. It means that we can match and extract any string pattern from the text with the help of regular expressions. it helps the programmers to Write less and cleaner code. it also avoids multiple use of if/else statements. Regular expressions are a powerful feature of any language and solve a particular class of problems extraordinarily well. They can be used to validate user input, extract relevant data from a string, or even modify a string based on its contents.\n",
        "\n",
        "Python's regular expression library is called \"re\" and is based on Perl's regular expression engine, which is pretty much an industry standard now."
      ],
      "metadata": {
        "id": "60I9h-mnIaX7"
      }
    },
    {
      "cell_type": "code",
      "source": [],
      "metadata": {
        "id": "hjdIe1vfIhU4"
      },
      "execution_count": null,
      "outputs": []
    },
    {
      "cell_type": "markdown",
      "source": [
        "Q2. Describe the difference between the effects of &quot;(ab)c+&quot; and &quot;a(bc)+.&quot; Which of these, if any, is the\n",
        "unqualified pattern &quot;abc+&quot;?\n",
        "\n",
        "Answer:- Both (ab)c+ and a(bc)+ are valid patterns. The difference between both these patterns is that in (ab)c+ ab is a group whereas in a(bc)+ bc is a group. Capturing groups are a way to treat multiple characters as a single unit. They are created by placing the characters to be grouped inside a set of parentheses."
      ],
      "metadata": {
        "id": "ZCc4V0zjIh6s"
      }
    },
    {
      "cell_type": "code",
      "source": [],
      "metadata": {
        "id": "HP3UeMJDIl8J"
      },
      "execution_count": null,
      "outputs": []
    },
    {
      "cell_type": "markdown",
      "source": [
        "Q3. How much do you need to use the following sentence while using regular expressions?\n",
        "\n",
        "import re\n",
        "\n",
        "\n",
        "Answer:- import re statement always has to be imported before using regular expressions. In a program, we need to import this once so that we can use Regular Expressions subsequently."
      ],
      "metadata": {
        "id": "RlqaB4WoImWT"
      }
    },
    {
      "cell_type": "code",
      "source": [],
      "metadata": {
        "id": "WDT2P8E9Ir3h"
      },
      "execution_count": null,
      "outputs": []
    },
    {
      "cell_type": "markdown",
      "source": [
        "Q4. Which characters have special significance in square brackets when expressing a range, and\n",
        "under what circumstances?\n",
        "\n",
        "Answer:- The Characters .,*,?,^,or,(), have a special signiface when used with square brackets. They need not be be explicitly escaped by \\ as in case of pattern texts in a raw string. Range in Regular Expressions Ranges of characters can be indicated by giving two characters and separating them by a ‘-‘, for example [a-z] will match any lowercase ASCII letter, [0-5][0-9] will match all the two-digits numbers from 00 to 59."
      ],
      "metadata": {
        "id": "hvf_u9NiIsgl"
      }
    },
    {
      "cell_type": "code",
      "source": [],
      "metadata": {
        "id": "dP7isKV9Iy3Q"
      },
      "execution_count": null,
      "outputs": []
    },
    {
      "cell_type": "markdown",
      "source": [
        "Q5. How does compiling a regular-expression object benefit you?\n",
        "\n",
        "Answer:- We can Combine a regular expression pattern into pattern Objects which can be used for pattern matching. It also helps to search a pattern again without rewriting it."
      ],
      "metadata": {
        "id": "wk1eN3HfIzV7"
      }
    },
    {
      "cell_type": "code",
      "source": [],
      "metadata": {
        "id": "vH-H3U5qI4eY"
      },
      "execution_count": null,
      "outputs": []
    },
    {
      "cell_type": "markdown",
      "source": [
        "Q6. What are some examples of how to use the match object returned by re.match and re.search?\n",
        "\n",
        "Answer:- The re.search() and re.match() both are functions of re module in python. These functions are very efficient and fast for searching in strings. The function searches for some substring in a string and returns a match object if found, else it returns none.\n",
        "\n",
        "There is a difference between the use of both functions. Both return the first match of a substring found in the string, but re.match() searches only from the beginning of the string and return match object if found. But if a match of substring is found somewhere in the middle of the string, it returns none.\n",
        "\n",
        "Where as re.search() searches for the whole string even if the string contains multi-lines and tries to find a match of the substring in all the lines of string"
      ],
      "metadata": {
        "id": "okxGcAA0I43M"
      }
    },
    {
      "cell_type": "code",
      "source": [],
      "metadata": {
        "id": "uc3ArBU9I-MY"
      },
      "execution_count": null,
      "outputs": []
    },
    {
      "cell_type": "markdown",
      "source": [
        "Q7. What is the difference between using a vertical bar (|) as an alteration and using square brackets\n",
        "as a character set?\n",
        "\n",
        "Answer:- When | us used then patterns searches for or option. i.e <pattern_1>|<pattern_2> means it searches as <pattern_1>or<<pattern_2> in the searched string. The first occurance of matched string will be returned as the Match Object. Using Character set in square Brackets searches for all the character set in the square bracket and if match is found, it returns it."
      ],
      "metadata": {
        "id": "Oy3y19eII-nb"
      }
    },
    {
      "cell_type": "code",
      "source": [],
      "metadata": {
        "id": "B2Fj3JN9JC3w"
      },
      "execution_count": null,
      "outputs": []
    },
    {
      "cell_type": "markdown",
      "source": [
        "Q8. In regular-expression search patterns, why is it necessary to use the raw-string indicator (r)? In  \n",
        "replacement strings?\n",
        "\n",
        "Answer:- Raw Strings are used in the regular-expression search patterns, so that backslash do not have to be escaped. When one wants to match a literal backslash, it must be escaped in the regular expression. With raw string notation, this means r\"\". Without raw string notation, one must use 4 times back slashes"
      ],
      "metadata": {
        "id": "ZEUnm2j1JDi8"
      }
    },
    {
      "cell_type": "code",
      "source": [],
      "metadata": {
        "id": "IV_IhpyRJH5A"
      },
      "execution_count": null,
      "outputs": []
    }
  ]
}