{
  "nbformat": 4,
  "nbformat_minor": 0,
  "metadata": {
    "colab": {
      "provenance": []
    },
    "kernelspec": {
      "name": "python3",
      "display_name": "Python 3"
    },
    "language_info": {
      "name": "python"
    }
  },
  "cells": [
    {
      "cell_type": "markdown",
      "source": [
        "Q1. Explain the difference between greedy and non-greedy syntax with visual terms in as few words\n",
        "as possible. What is the bare minimum effort required to transform a greedy pattern into a non-greedy\n",
        "one? What characters or characters can you introduce or change?\n",
        "\n",
        "Answer:- The Main difference between Greedy and Non Greedy Match Syntax is that the Greedy Match will try to match as many repetitions of the quantified pattern as possible Whereas the Non Greedy Match will try to match as few repetitions of the quantified pattern as possible so that it still can match the pattern in the given string"
      ],
      "metadata": {
        "id": "vKYrQs8AJdVS"
      }
    },
    {
      "cell_type": "code",
      "source": [
        "import re\n",
        "print(re.findall(\"a*\", \"aaaaaa\")) # Greedy Match Synatx\n",
        "print(re.findall(\"a*?\", \"aaaaaa\")) # Non Greddy Synta"
      ],
      "metadata": {
        "colab": {
          "base_uri": "https://localhost:8080/"
        },
        "id": "8aWXJadcJnnn",
        "outputId": "0827d63d-9ba9-412e-ecc4-3013c3a23bf3"
      },
      "execution_count": 25,
      "outputs": [
        {
          "output_type": "stream",
          "name": "stdout",
          "text": [
            "['aaaaaa', '']\n",
            "['', 'a', '', 'a', '', 'a', '', 'a', '', 'a', '', 'a', '']\n"
          ]
        }
      ]
    },
    {
      "cell_type": "code",
      "source": [],
      "metadata": {
        "id": "JNxmwmhEJpll"
      },
      "execution_count": null,
      "outputs": []
    },
    {
      "cell_type": "markdown",
      "source": [
        "Q2. When exactly does greedy versus non-greedy make a difference?  What if you&#39;re looking for a\n",
        "non-greedy match but the only one available is greedy?\n",
        "\n",
        "Answer:- The Greedy Match will try to match as many repetitions of the quantified pattern as possible. The Non Greedy Match will try to match as few repetitions of the quantified pattern as possible. If only Non Greedy Match is available, we can use other filtering or pattern matching methods of regex and further identify the required pattern."
      ],
      "metadata": {
        "id": "Z5QfyPMNJsuz"
      }
    },
    {
      "cell_type": "code",
      "source": [],
      "metadata": {
        "id": "lnpS3eevJwYv"
      },
      "execution_count": null,
      "outputs": []
    },
    {
      "cell_type": "markdown",
      "source": [
        "Q3. In a simple match of a string, which looks only for one match and does not do any replacement, is\n",
        "the use of a nontagged group likely to make any practical difference?\n",
        "\n",
        "Answer:- In this Case, the Non-Tagged Group will not make any difference. This is shown below:"
      ],
      "metadata": {
        "id": "dgAFQ2ECJw_T"
      }
    },
    {
      "cell_type": "code",
      "source": [
        "import re\n",
        "phoneNumRegex = re.compile(r'\\d\\d\\d')\n",
        "num = phoneNumRegex.search('My number is 123-456-7891.')\n",
        "print(f'Phone number found -> {num.group()}') # Non Tagged group\n",
        "print(f'Phone number found -> {num.group(0)}') # Tagged Group"
      ],
      "metadata": {
        "colab": {
          "base_uri": "https://localhost:8080/"
        },
        "id": "sv8xTK6mJ2NA",
        "outputId": "fb1dc815-8d62-41b3-9ce6-bd11d53d9233"
      },
      "execution_count": 26,
      "outputs": [
        {
          "output_type": "stream",
          "name": "stdout",
          "text": [
            "Phone number found -> 123\n",
            "Phone number found -> 123\n"
          ]
        }
      ]
    },
    {
      "cell_type": "code",
      "source": [],
      "metadata": {
        "id": "ymp2uf5KJ4DQ"
      },
      "execution_count": null,
      "outputs": []
    },
    {
      "cell_type": "markdown",
      "source": [
        "Q4. Describe a scenario in which using a nontagged category would have a significant impact on the\n",
        "program&#39;s outcomes.\n",
        "\n",
        "Answer:- Here in the below Code Snippet . decimal is not tagged or captured. Hence, it will be useful in scenarios where the separator of value in a string is of no use and we need to capture only the values."
      ],
      "metadata": {
        "id": "jDg57TAJJ6wd"
      }
    },
    {
      "cell_type": "code",
      "source": [],
      "metadata": {
        "id": "3NOohXqHJ965"
      },
      "execution_count": null,
      "outputs": []
    },
    {
      "cell_type": "markdown",
      "source": [
        "Q5. Unlike a normal regex pattern, a look-ahead condition does not consume the characters it\n",
        "examines. Describe a situation in which this could make a difference in the results of your\n",
        "programme.\n",
        "\n",
        "Answer:- While counting the number of multiple lines or mutiple sentences in a string, the positive look ahead makes a difference, without which we will not be able to get the correct count of lines or sentences in a string."
      ],
      "metadata": {
        "id": "fTvWaWvlJ-d8"
      }
    },
    {
      "cell_type": "code",
      "source": [],
      "metadata": {
        "id": "zMs-3z6EKHFI"
      },
      "execution_count": null,
      "outputs": []
    },
    {
      "cell_type": "markdown",
      "source": [
        "Q6. In standard expressions, what is the difference between positive look-ahead and negative look-\n",
        "ahead?\n",
        "\n",
        "Answer:- Positive Look-ahead allows to add a condition for what follows. Negative Lookahead is similar, but it looks behind. That is, it allows to match a pattern only if there’s something before it.\n",
        "\n",
        "Syntax Positive Look-Ahead: X(?=Y) Syntax Negative Look-Ahead: X(?!Y)"
      ],
      "metadata": {
        "id": "YE-oFfu_KHje"
      }
    },
    {
      "cell_type": "code",
      "source": [],
      "metadata": {
        "id": "HduTYrokKL9A"
      },
      "execution_count": null,
      "outputs": []
    },
    {
      "cell_type": "markdown",
      "source": [
        "Q7. What is the benefit of referring to groups by name rather than by number in a standard\n",
        "expression?\n",
        "\n",
        "Answer:- The advantage to named groups is that it adds readability and understandability to the code, so that you can easily see what part of a regular expression match is being referenced."
      ],
      "metadata": {
        "id": "a-_rw7zmKMtc"
      }
    },
    {
      "cell_type": "code",
      "source": [],
      "metadata": {
        "id": "Mn1gJSAdKR_g"
      },
      "execution_count": null,
      "outputs": []
    },
    {
      "cell_type": "markdown",
      "source": [
        "Q8. Can you identify repeated items within a target string using named groups, as in &quot;The cow\n",
        "jumped over the moon&quot;?\n",
        "\n",
        "Answer:- "
      ],
      "metadata": {
        "id": "P2VQV6jtKSr0"
      }
    },
    {
      "cell_type": "code",
      "source": [
        "import re\n",
        "text = \"The cow jumped over the moon\"\n",
        "regobj=re.compile(r'(?P<w1>The)',re.I)\n",
        "regobj.findall(text)"
      ],
      "metadata": {
        "colab": {
          "base_uri": "https://localhost:8080/"
        },
        "id": "3aBPAHD0KW3w",
        "outputId": "ab5cfc06-f045-4d95-d538-9fd84b728d39"
      },
      "execution_count": 27,
      "outputs": [
        {
          "output_type": "execute_result",
          "data": {
            "text/plain": [
              "['The', 'the']"
            ]
          },
          "metadata": {},
          "execution_count": 27
        }
      ]
    },
    {
      "cell_type": "code",
      "source": [],
      "metadata": {
        "id": "fgJbaqJ2KXir"
      },
      "execution_count": null,
      "outputs": []
    },
    {
      "cell_type": "markdown",
      "source": [
        "Q9. When parsing a string, what is at least one thing that the Scanner interface does for you that the\n",
        "re.findall feature does not?\n",
        "\n",
        "Answer:- re.findall() module is used to search for all occurrences that match a given pattern. In contrast, re.search() will only return the first occurrence that matches the specified pattern. re.findall() will iterate over all the lines of the file and will return all non-overlapping matches of pattern in a single step."
      ],
      "metadata": {
        "id": "JkdNsu0aKa8V"
      }
    },
    {
      "cell_type": "code",
      "source": [],
      "metadata": {
        "id": "AQ4mvnRhKfHA"
      },
      "execution_count": null,
      "outputs": []
    },
    {
      "cell_type": "markdown",
      "source": [
        "Q10. Does a scanner object have to be named scanner?\n",
        "\n",
        "Answer:- No, It may have any name. For example instead of naming Scanner object as scanner, we can name as sc"
      ],
      "metadata": {
        "id": "kFHwAsczKgwP"
      }
    },
    {
      "cell_type": "code",
      "source": [],
      "metadata": {
        "id": "D0u4f-3xKkQR"
      },
      "execution_count": null,
      "outputs": []
    }
  ]
}