{
  "nbformat": 4,
  "nbformat_minor": 0,
  "metadata": {
    "colab": {
      "provenance": []
    },
    "kernelspec": {
      "name": "python3",
      "display_name": "Python 3"
    },
    "language_info": {
      "name": "python"
    }
  },
  "cells": [
    {
      "cell_type": "markdown",
      "source": [
        "Q1. Does assigning a value to a string&#39;s indexed character violate Python&#39;s string immutability?\n",
        "\n",
        "Answer:- String’s indexed character cannot to be assigned a New value as Strings are immutable."
      ],
      "metadata": {
        "id": "AD5nC7Kjuclh"
      }
    },
    {
      "cell_type": "code",
      "source": [],
      "metadata": {
        "id": "Rc7MtyW6ufeO"
      },
      "execution_count": null,
      "outputs": []
    },
    {
      "cell_type": "markdown",
      "source": [
        "Q2. Does using the += operator to concatenate strings violate Python&#39;s string immutability? Why or\n",
        "why not?\n",
        "\n",
        "Answer:- += operator is used to concatenate strings. It does not violate Python’s string immutability Property because doing so creates a new association with data and variable. E.g. str_1=\"a\" and str_1+=\"b. Effect of this statement is to create string ab and reassign it to variable str_1. Any string data is not actually modified."
      ],
      "metadata": {
        "id": "sVs8yTG0uoOj"
      }
    },
    {
      "cell_type": "code",
      "source": [
        "str_1 = 'a'\n",
        "print(id(str_1))\n",
        "str_1 += 'b'\n",
        "print(id(str_1)) # Does not Modify existing string, Creates a New String Object"
      ],
      "metadata": {
        "colab": {
          "base_uri": "https://localhost:8080/"
        },
        "id": "uO_bad_yupvV",
        "outputId": "39f6ea6a-c03f-4037-ba43-a003156dfd5f"
      },
      "execution_count": 1,
      "outputs": [
        {
          "output_type": "stream",
          "name": "stdout",
          "text": [
            "140623229258096\n",
            "140622708919536\n"
          ]
        }
      ]
    },
    {
      "cell_type": "markdown",
      "source": [
        "Q3. In Python, how many different ways are there to index a character?\n",
        "\n",
        "Answer:-  Character in string can be indexed using string name followed by index number of character in square bracket. Positive Indexing i.e. first index is 0 an so on, or Negative Indexing i.e. last letter is -1 and so on can be used to index a character"
      ],
      "metadata": {
        "id": "wLnU0YwFu7CZ"
      }
    },
    {
      "cell_type": "code",
      "source": [],
      "metadata": {
        "id": "Sp5X_uHSuyfH"
      },
      "execution_count": null,
      "outputs": []
    },
    {
      "cell_type": "markdown",
      "source": [
        "Q4. What is the relationship between indexing and slicing?\n",
        "\n",
        "Answer:- We can access elements of sequence datatypes by using slicing and indexing. Indexing is used to obtaining individual element while slicing for sequence of elements"
      ],
      "metadata": {
        "id": "6516B7HqvJFa"
      }
    },
    {
      "cell_type": "code",
      "source": [],
      "metadata": {
        "id": "z0aTi1MFvRL8"
      },
      "execution_count": null,
      "outputs": []
    },
    {
      "cell_type": "markdown",
      "source": [
        "Q5. What is an indexed character&#39;s exact data type? What is the data form of a slicing-generated\n",
        "substring?\n",
        "\n",
        "Answer:- indexed characters and sliced substrings have datatype String."
      ],
      "metadata": {
        "id": "aby_czCavTdY"
      }
    },
    {
      "cell_type": "code",
      "source": [],
      "metadata": {
        "id": "rpa4mTmOvT49"
      },
      "execution_count": null,
      "outputs": []
    },
    {
      "cell_type": "markdown",
      "source": [
        "Q6. What is the relationship between string and character &quot;types&quot; in Python?\n",
        "\n",
        "Answer:- Object that contains sequence of character datatypes are called String."
      ],
      "metadata": {
        "id": "AMF6XaeYvas7"
      }
    },
    {
      "cell_type": "code",
      "source": [],
      "metadata": {
        "id": "3RIdkRqavete"
      },
      "execution_count": null,
      "outputs": []
    },
    {
      "cell_type": "markdown",
      "source": [
        "Q7. Identify at least two operators and one method that allow you to combine one or more smaller\n",
        "strings to create a larger string.\n",
        "\n",
        "Answer:- +, += and * allow to combine one or more smaller strings to create a larger string. .join() method joins element of iterable type like list and tuple to get a combined string."
      ],
      "metadata": {
        "id": "vCN6SJp9vjDz"
      }
    },
    {
      "cell_type": "code",
      "source": [
        "in_string = 'iNeuron '\n",
        "in_string += 'Full Stack Data Science'\n",
        "print(in_string + ' FSDS')\n",
        "print('FSDS '*3)\n",
        "print(\" \".join(['I','N','E','U','R','O','N'])) # List Iterable\n",
        "print(\" \".join(('I','N','E','U','R','O','N')).lower()) # Tuple Iterable"
      ],
      "metadata": {
        "colab": {
          "base_uri": "https://localhost:8080/"
        },
        "id": "8_8OErdSvnb-",
        "outputId": "ee1f377a-d8fb-431c-f872-d75c92f89af8"
      },
      "execution_count": 2,
      "outputs": [
        {
          "output_type": "stream",
          "name": "stdout",
          "text": [
            "iNeuron Full Stack Data Science FSDS\n",
            "FSDS FSDS FSDS \n",
            "I N E U R O N\n",
            "i n e u r o n\n"
          ]
        }
      ]
    },
    {
      "cell_type": "code",
      "source": [],
      "metadata": {
        "id": "mCKdiBjDvpmP"
      },
      "execution_count": null,
      "outputs": []
    },
    {
      "cell_type": "markdown",
      "source": [
        "Q8. What is the benefit of first checking the target string with in or not in before using the index\n",
        "method to find a substring?\n",
        "\n",
        "\n",
        "Answer:- Checking the target string with in or not Operators before using the index method to find a substring just helps confirming availability of substring and thus avoid raising of ValueError."
      ],
      "metadata": {
        "id": "UPPwJR5OvrPZ"
      }
    },
    {
      "cell_type": "code",
      "source": [],
      "metadata": {
        "id": "U2FzQXEevuze"
      },
      "execution_count": null,
      "outputs": []
    },
    {
      "cell_type": "markdown",
      "source": [
        "Q9. Which operators and built-in string methods produce simple Boolean (true/false) results?\n",
        "\n",
        "Answer:-  he String Operators and built-in methods to Produce Simple Boolean (True/False) Results are:\n",
        "\n",
        "in\n",
        "\n",
        "not\n",
        "\n",
        "<string>.isalpha()\n",
        "\n",
        "<string>.isalnum()\n",
        "\n",
        "<string>.isdecimal()\n",
        "\n",
        "<string>.isdigit()\n",
        "\n",
        "<string>.islower()\n",
        "\n",
        "<string>.isnumeric()\n",
        "\n",
        "<string>.isprintable()\n",
        "\n",
        "<string>.isspace()\n",
        "\n",
        "<string>.istitle()"
      ],
      "metadata": {
        "id": "4N6kS7mOvwG0"
      }
    },
    {
      "cell_type": "code",
      "source": [],
      "metadata": {
        "id": "LHDaRp6Mv3nW"
      },
      "execution_count": null,
      "outputs": []
    }
  ]
}