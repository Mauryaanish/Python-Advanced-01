{
  "nbformat": 4,
  "nbformat_minor": 0,
  "metadata": {
    "colab": {
      "provenance": []
    },
    "kernelspec": {
      "name": "python3",
      "display_name": "Python 3"
    },
    "language_info": {
      "name": "python"
    }
  },
  "cells": [
    {
      "cell_type": "markdown",
      "source": [
        "Q1. If you have any, what are your choices for increasing the comparison between different figures on\n",
        "the same graph?\n",
        "\n",
        "Answer:- Matplotlib provides a convenient method called subplots for increasing the comparison between different figures on the same graph. Subplots mean a group of smaller axes (where each axis is a plot) that can exist together within a single figure."
      ],
      "metadata": {
        "id": "7fsHf4JMA95N"
      }
    },
    {
      "cell_type": "code",
      "source": [],
      "metadata": {
        "id": "TWrjYPt8Be7d"
      },
      "execution_count": null,
      "outputs": []
    },
    {
      "cell_type": "markdown",
      "source": [
        "Q2. Can you explain the benefit of compound interest over a higher rate of interest that does not\n",
        "compound after reading this chapter?\n",
        "\n",
        "Answer:- Compound interest makes a sum of money grow at a faster rate than simple interest,because in addition to earning returns on the money you invest, you also earn returns on those returns at the end of every compounding period, which could be daily, monthly, quarterly or annually."
      ],
      "metadata": {
        "id": "LMU7v9wQBhIl"
      }
    },
    {
      "cell_type": "code",
      "source": [],
      "metadata": {
        "id": "MsH3AFZ9Bl9H"
      },
      "execution_count": null,
      "outputs": []
    },
    {
      "cell_type": "markdown",
      "source": [
        "Q3. What is a histogram, exactly? Name a numpy method for creating such a graph.\n",
        "\n",
        "Answer:- Histogram shows total values of X wrt Y. Which means at any particular position of X, Y value shows the total number of counts or data below that value of X. numpy.histogram() is the built in function used."
      ],
      "metadata": {
        "id": "PI6SZcxxBm9t"
      }
    },
    {
      "cell_type": "code",
      "source": [],
      "metadata": {
        "id": "9QOck5-yBvQw"
      },
      "execution_count": null,
      "outputs": []
    },
    {
      "cell_type": "markdown",
      "source": [
        "Q4. If necessary, how do you change the aspect ratios between the X and Y axes?\n",
        "\n",
        "Answer:- We can use figure(figsize=(10,8)) function inside the matplot.pyplot library which we scale down or up the graph."
      ],
      "metadata": {
        "id": "HK2GF6sgB0en"
      }
    },
    {
      "cell_type": "code",
      "source": [],
      "metadata": {
        "id": "69huYB5iCA0_"
      },
      "execution_count": null,
      "outputs": []
    },
    {
      "cell_type": "markdown",
      "source": [
        "Q5. Compare and contrast the three types of array multiplication between two numpy arrays: dot\n",
        "product, outer product, and regular multiplication of two numpy arrays.\n",
        "\n",
        "Answer:- 1.In regular multiplication values of same index get multiplied.\n",
        "\n",
        "2.In dot product there is row wise multiplication, row of one array with column of second array and so on.\n",
        "\n",
        "3.In outer multiplication every element of first array a1 will be multiply by every element of other array a2 such such the number of columns will be equal to the number of element in another array a2."
      ],
      "metadata": {
        "id": "qCu7Z1r9CHOt"
      }
    },
    {
      "cell_type": "code",
      "source": [],
      "metadata": {
        "id": "NRBtfhiOCPnI"
      },
      "execution_count": null,
      "outputs": []
    },
    {
      "cell_type": "markdown",
      "source": [
        "Q6. Before you buy a home, which numpy function will you use to measure your monthly mortgage\n",
        "payment?\n",
        "\n",
        "Answer:- np.pmt(rate, nper, pv) function we will be using in order to calculate monthly mortgage payment before you purchase a house.\n",
        "\n",
        "rate = The periodic interest rate\n",
        "\n",
        "nper = The number of payment periods\n",
        "\n",
        "pv = The total value of the mortgage loan"
      ],
      "metadata": {
        "id": "g0QIcYctCRWl"
      }
    },
    {
      "cell_type": "code",
      "source": [],
      "metadata": {
        "id": "DqdqEktHCUOX"
      },
      "execution_count": null,
      "outputs": []
    },
    {
      "cell_type": "markdown",
      "source": [
        "Q7. Can string data be stored in numpy arrays? If so, list at least one restriction that applies to this\n",
        "data.\n",
        "\n",
        "Answer:- Yes, an array can store the string. The limitation which imposed on the string data is, whenever we store the data of string dtype then we should keep in mind that the string which is having the maximum length will become the limit. Below example demonstrates that when New Zealand is added then it takes only 'New Z' because limit is set as 5 before."
      ],
      "metadata": {
        "id": "9OM8UnamCWr9"
      }
    },
    {
      "cell_type": "code",
      "source": [
        "# importing numpy as np\n",
        "import numpy as np\n",
        "  \n",
        "# Create the numpy array\n",
        "country = np.array(['USA', 'Japan', 'UK', '', 'India', 'China'])\n",
        "  \n",
        "# Print the array\n",
        "print(country)\n",
        "\n",
        "# Assign 'New Zealand' at the place of missing value\n",
        "country[country == ''] = 'New Zealand'\n",
        "  \n",
        "# Print the modified array\n",
        "print(country)"
      ],
      "metadata": {
        "colab": {
          "base_uri": "https://localhost:8080/"
        },
        "id": "1rXvru6PCad_",
        "outputId": "b48795b4-1d70-4ece-a35a-5830192afee7"
      },
      "execution_count": 2,
      "outputs": [
        {
          "output_type": "stream",
          "name": "stdout",
          "text": [
            "['USA' 'Japan' 'UK' '' 'India' 'China']\n",
            "['USA' 'Japan' 'UK' 'New Z' 'India' 'China']\n"
          ]
        }
      ]
    },
    {
      "cell_type": "code",
      "source": [],
      "metadata": {
        "id": "Jw8Lm1DPCczR"
      },
      "execution_count": null,
      "outputs": []
    }
  ]
}