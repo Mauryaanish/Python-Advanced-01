{
  "nbformat": 4,
  "nbformat_minor": 0,
  "metadata": {
    "colab": {
      "provenance": []
    },
    "kernelspec": {
      "name": "python3",
      "display_name": "Python 3"
    },
    "language_info": {
      "name": "python"
    }
  },
  "cells": [
    {
      "cell_type": "markdown",
      "source": [
        "Q1. Define the relationship between a class and its instances. Is it a one-to-one or a one-to-many\n",
        "partnership, for example?\n",
        "\n",
        "Answer:- Relationship between a class and its instances is a one to many partnership. Object is a physical entity or real word entity. An object occupies space in memory. Example:-banana,chair,pen etc are objects. Class is a logical entity which does not exist in real world. Or we can say that class is a blueprint to create objects of similiar types. A class does not take space in memory. Examples:-fruits,furniture,vehicles etc."
      ],
      "metadata": {
        "id": "rtEgVqa7MoMr"
      }
    },
    {
      "cell_type": "code",
      "source": [],
      "metadata": {
        "id": "UOglu6fAMzVJ"
      },
      "execution_count": null,
      "outputs": []
    },
    {
      "cell_type": "markdown",
      "source": [
        "Q2. What kind of data is held only in an instance?\n",
        "\n",
        "Answer:- Instance objects contains the Instance variables which are specific to that specific Instance object."
      ],
      "metadata": {
        "id": "uECWIV1QMzwt"
      }
    },
    {
      "cell_type": "code",
      "source": [],
      "metadata": {
        "id": "MeF-khKNM4NY"
      },
      "execution_count": null,
      "outputs": []
    },
    {
      "cell_type": "markdown",
      "source": [
        "Q3. What kind of knowledge is stored in a class?\n",
        "\n",
        "Answer:- Class creates a user-defined data structure, which holds its own data members and member functions, which can be accessed and used by creating an instance of that class. A class is like a blueprint for an object. Class is a logical entity which does not exist in real world Or we can say that class is a blueprint to create objects of similiar types. A class does not take space in memory. Examples:-fruits,furniture,vehicles etc."
      ],
      "metadata": {
        "id": "Lg7k-pkoM4o8"
      }
    },
    {
      "cell_type": "code",
      "source": [],
      "metadata": {
        "id": "QWODUfc7M9bo"
      },
      "execution_count": null,
      "outputs": []
    },
    {
      "cell_type": "markdown",
      "source": [
        "Q4. What exactly is a method, and how is it different from a regular function?\n",
        "\n",
        "Answer:- The methods with a class can be used to access the insatnce variables of its instance. So,the object's state can be modified by its method. Function can't access the attributes of an instance of a class or can't modify the state of the object. A function is independent, whereas a method is a function linked with an object. Explicit data is passed on to a function, whereas a method completely passes the object on which it was called in the program. A method is Object-oriented programming while a function has standalone functionality"
      ],
      "metadata": {
        "id": "8gfyBe5eM91c"
      }
    },
    {
      "cell_type": "code",
      "source": [],
      "metadata": {
        "id": "DT2PLtuJNC95"
      },
      "execution_count": null,
      "outputs": []
    },
    {
      "cell_type": "markdown",
      "source": [
        "Q5. Is inheritance supported in Python, and if so, what is the syntax?\n",
        "\n",
        "Answer:- Yes,Python supports inheritance. The Types of Inheritence Supported by Python are:\n",
        "\n",
        "1.Simple Inheritence\n",
        "\n",
        "2.Multiple Inheritence\n",
        "\n",
        "3.Multilevel lInheritence\n",
        "\n",
        "4.Hybrid Inheritence\n",
        "\n",
        "5.Hierracial Inheritence"
      ],
      "metadata": {
        "id": "1nkKK8L8NDUw"
      }
    },
    {
      "cell_type": "code",
      "source": [],
      "metadata": {
        "id": "2O9K7cLBNKWY"
      },
      "execution_count": null,
      "outputs": []
    },
    {
      "cell_type": "markdown",
      "source": [
        "Q6. How much encapsulation (making instance or class variables private) does Python support?\n",
        "\n",
        "Answer:- Encapsulation describes the idea of wrapping data and the methods that work on data within one unit. This puts restrictions on accessing variables and methods directly and can prevent the accidental modification of data. To prevent accidental change, an objects variable can only be changed by an objects method."
      ],
      "metadata": {
        "id": "1os38nqGNMgd"
      }
    },
    {
      "cell_type": "code",
      "source": [],
      "metadata": {
        "id": "RYs5EQZANQ7I"
      },
      "execution_count": null,
      "outputs": []
    },
    {
      "cell_type": "markdown",
      "source": [
        "Q7. How do you distinguish between a class variable and an instance variable?\n",
        "\n",
        "Answer:- The Class Attribute is available to all the instance objects of that class whereas Instance Attributes are accessible only to the object or Instance of that class.\n",
        "\n",
        "A single copy of Class attributes is maintained by pvm at the class level Whereas different copies of instance attributes are maintained by pvm at objects/instance level."
      ],
      "metadata": {
        "id": "-U48sg59NRiU"
      }
    },
    {
      "cell_type": "code",
      "source": [],
      "metadata": {
        "id": "SfPU2BT9NZMw"
      },
      "execution_count": null,
      "outputs": []
    },
    {
      "cell_type": "markdown",
      "source": [
        "Q8. When, if ever, can self be included in a class&#39;s method definitions?\n",
        "\n",
        "Answer:- Yes, self can be included in class method definitions to access the instance variables inside class methods."
      ],
      "metadata": {
        "id": "WNiST44PNaul"
      }
    },
    {
      "cell_type": "code",
      "source": [],
      "metadata": {
        "id": "RWq_BtxbNeSw"
      },
      "execution_count": null,
      "outputs": []
    },
    {
      "cell_type": "markdown",
      "source": [
        "Q9. What is the difference between the _ _add_ _ and the _ _radd_ _ methods?\n",
        "\n",
        "Answer:- Entering radd Python will first try add(), and if that returns Not Implemented Python will check if the right-hand operand implements radd, and if it does, it will call radd() rather than raising a TypeError.\n",
        "\n",
        "The expression a+b is internally translated to the method call a.add(b). But if a and b are of different types, it is possible that a's implementation of addition cannot deal with objects of b's type (or maybe a does not have a add method, at all). So, if a.add(b) fails, Python tries b.radd(a) instead, to see if b's implementation can deal with objects of a's type."
      ],
      "metadata": {
        "id": "GVMoOqFXNeq2"
      }
    },
    {
      "cell_type": "code",
      "source": [],
      "metadata": {
        "id": "7CPayYMSNj0J"
      },
      "execution_count": null,
      "outputs": []
    },
    {
      "cell_type": "markdown",
      "source": [
        "Q10. When is it necessary to use a reflection method? When do you not need it, even though you\n",
        "support the operation in question?\n",
        "\n",
        "Answer:- Reflection refers to the ability for code to be able to examine attributes about objects that might be passed as parameters to a function. For example, if we write type(obj) then Python will return an object which represents the type of obj. Using reflection, we can write one recursive reverse function that will work for strings, lists, and any other sequence that supports slicing and concatenation. If an obj is a reference to a string, then Python will return the str type object. Further, if we write str() we get a string which is the empty string. In other words, writing str() is the same thing as writing “”. Likewise, writing list() is the same thing as writing []."
      ],
      "metadata": {
        "id": "3mSRCMbrNkUE"
      }
    },
    {
      "cell_type": "code",
      "source": [],
      "metadata": {
        "id": "vcm4WmHBNokx"
      },
      "execution_count": null,
      "outputs": []
    },
    {
      "cell_type": "markdown",
      "source": [
        "Q11. What is the _ _iadd_ _ method called?\n",
        "\n",
        "Answer:- iadd method is called when we use implementation like a+=b which is a.iadd(b)"
      ],
      "metadata": {
        "id": "zggt6xYENqYt"
      }
    },
    {
      "cell_type": "code",
      "source": [],
      "metadata": {
        "id": "Onvht5qINuLp"
      },
      "execution_count": null,
      "outputs": []
    },
    {
      "cell_type": "markdown",
      "source": [
        "Q12. Is the _ _init_ _ method inherited by subclasses? What do you do if you need to customize its\n",
        "behavior within a subclass?\n",
        "\n",
        "Answer:- Yes, init method will be inherited by subclasses. If we want to customize its behaviour within a subclass, we can use super() method."
      ],
      "metadata": {
        "id": "mnYYLzKbNumF"
      }
    },
    {
      "cell_type": "code",
      "source": [],
      "metadata": {
        "id": "wdQXp04wNytg"
      },
      "execution_count": null,
      "outputs": []
    }
  ]
}