{
  "nbformat": 4,
  "nbformat_minor": 0,
  "metadata": {
    "colab": {
      "provenance": []
    },
    "kernelspec": {
      "name": "python3",
      "display_name": "Python 3"
    },
    "language_info": {
      "name": "python"
    }
  },
  "cells": [
    {
      "cell_type": "markdown",
      "source": [
        "1. Compare and contrast the float and Decimal classes&#39; benefits and drawbacks.\n",
        "\n",
        "Answer:- Both the float and decimal types store numerical values in Python.\n",
        "\n",
        "We use floats when convenience and speed matter. A float gives us an approximation of the number we declare.\n",
        "\n",
        "We use decimals when precision matters. Decimals can suffer from their own precision issues, but generally, decimals are more precise than floats. The performance difference between float and decimal, with Python 3, is not outlandish, and in my experience, the precision benefits of a decimal outweigh the performance benefits of a float."
      ],
      "metadata": {
        "id": "_3h6pJfdOOXj"
      }
    },
    {
      "cell_type": "code",
      "source": [],
      "metadata": {
        "id": "6tby8kNHOXBQ"
      },
      "execution_count": null,
      "outputs": []
    },
    {
      "cell_type": "markdown",
      "source": [
        "2. Decimal(&#39;1.200&#39;) and Decimal(&#39;1.2&#39;) are two objects to consider. In what sense are these the same\n",
        "object? Are these just two ways of representing the exact same value, or do they correspond to\n",
        "different internal states?\n",
        "\n",
        "Answer:- Both values are same but internal representation at storage Is different. Precsion differs, Decimal('1.200') gives internally 1.200 and Decimal('1.2') gives 1.2."
      ],
      "metadata": {
        "id": "towc3uxfOYcj"
      }
    },
    {
      "cell_type": "code",
      "source": [],
      "metadata": {
        "id": "TM2epoiwObuJ"
      },
      "execution_count": null,
      "outputs": []
    },
    {
      "cell_type": "markdown",
      "source": [
        "3. What happens if the equality of Decimal(&#39;1.200&#39;) and Decimal(&#39;1.2&#39;) is checked?\n",
        "\n",
        "Answer:- Both values are checked to be equal since they only differ in precision."
      ],
      "metadata": {
        "id": "LobqZ54FOcKU"
      }
    },
    {
      "cell_type": "code",
      "source": [],
      "metadata": {
        "id": "CfWGIZoPOgsw"
      },
      "execution_count": null,
      "outputs": []
    },
    {
      "cell_type": "markdown",
      "source": [
        "4. Why is it preferable to start a Decimal object with a string rather than a floating-point value?\n",
        "\n",
        "Answer:- Floating-point value is converted to Decimal format. Decimal can store float value with absolute precision. But when float value is given as Decimal object,it first has to be converted from floating point value which might already have rounding error.\n",
        "\n",
        "Hence it is preferable to start a Decimal object with a string."
      ],
      "metadata": {
        "id": "KZVUi3VOOhQ2"
      }
    },
    {
      "cell_type": "code",
      "source": [],
      "metadata": {
        "id": "6pq71oTtOlcw"
      },
      "execution_count": null,
      "outputs": []
    },
    {
      "cell_type": "markdown",
      "source": [
        "5. In an arithmetic phrase, how simple is it to combine Decimal objects with integers?\n",
        "\n",
        "Answer:- We can do it with use of Decimal()."
      ],
      "metadata": {
        "id": "9kP2LLCHOmEs"
      }
    },
    {
      "cell_type": "code",
      "source": [],
      "metadata": {
        "id": "us2-hmhIOppR"
      },
      "execution_count": null,
      "outputs": []
    },
    {
      "cell_type": "markdown",
      "source": [
        "6. Can Decimal objects and floating-point values be combined easily?\n",
        "\n",
        "Answer:- Arithmetic operfations like Adding,subtracting or multiplying a Decimal object by a floating-point value generates an error.\n",
        "\n",
        "To do these operations, the floating point has to be converted to a Decimal."
      ],
      "metadata": {
        "id": "AjRAr8thOqA-"
      }
    },
    {
      "cell_type": "code",
      "source": [],
      "metadata": {
        "id": "otRibK0FOuHx"
      },
      "execution_count": null,
      "outputs": []
    },
    {
      "cell_type": "markdown",
      "source": [
        "7. Using the Fraction class but not the Decimal class, give an example of a quantity that can be\n",
        "expressed with absolute precision.\n",
        "\n",
        "Answer:- Value of 0.5 will be represented as ½."
      ],
      "metadata": {
        "id": "vRXU4XJNOumN"
      }
    },
    {
      "cell_type": "code",
      "source": [],
      "metadata": {
        "id": "halfvywvOzLp"
      },
      "execution_count": null,
      "outputs": []
    },
    {
      "cell_type": "markdown",
      "source": [
        "8. Describe a quantity that can be accurately expressed by the Decimal or Fraction classes but not by\n",
        "a floating-point value.\n",
        "\n",
        "Answer:- Both will be reduced to 1/2"
      ],
      "metadata": {
        "id": "FHeV1O53Ozns"
      }
    },
    {
      "cell_type": "code",
      "source": [],
      "metadata": {
        "id": "kFd8dSQiO4aY"
      },
      "execution_count": null,
      "outputs": []
    },
    {
      "cell_type": "markdown",
      "source": [
        "Q9.Consider the following two fraction objects: Fraction(1, 2) and Fraction(1, 2). (5, 10). Is the internal\n",
        "state of these two objects the same? Why do you think that is?\n",
        "\n",
        "Answer:- Fraction class and integer type(int) are related in form of a container. It contains two ints, one in the numerator and the other in the denominator"
      ],
      "metadata": {
        "id": "SmitfL4rO42c"
      }
    },
    {
      "cell_type": "code",
      "source": [],
      "metadata": {
        "id": "t3_MPZAQO-jR"
      },
      "execution_count": null,
      "outputs": []
    }
  ]
}