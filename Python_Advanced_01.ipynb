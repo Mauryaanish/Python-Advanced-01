{
  "nbformat": 4,
  "nbformat_minor": 0,
  "metadata": {
    "colab": {
      "provenance": []
    },
    "kernelspec": {
      "name": "python3",
      "display_name": "Python 3"
    },
    "language_info": {
      "name": "python"
    }
  },
  "cells": [
    {
      "cell_type": "markdown",
      "source": [
        "## Q1. What is the purpose of Python&#39;s OOP?\n",
        "\n",
        "Answer:- It aims to implement real-world entities like inheritance, polymorphisms, encapsulation, etc. in the programming. The main concept of OOPs is to bind the data and the functions that work on that together as a single unit so that no other part of the code can access this data"
      ],
      "metadata": {
        "id": "ooWw1-3R9d-P"
      }
    },
    {
      "cell_type": "code",
      "source": [],
      "metadata": {
        "id": "QRPkAaDo9kqY"
      },
      "execution_count": null,
      "outputs": []
    },
    {
      "cell_type": "markdown",
      "source": [
        "## Q2. Where does an inheritance search look for an attribute?\n",
        "\n",
        "Answer:- Where does an inheritance search look for an attribute? An inheritance search looks for an attribute first in the instance object, then in the class the instance was created from, then in all higher superclasses, progressing from left to right (by default). The search stops at the first place the attribute is found."
      ],
      "metadata": {
        "id": "MgPbnvSY9lF-"
      }
    },
    {
      "cell_type": "code",
      "source": [],
      "metadata": {
        "id": "QJ6_Hf1z9w_Y"
      },
      "execution_count": null,
      "outputs": []
    },
    {
      "cell_type": "markdown",
      "source": [
        "## Q3. How do you distinguish between a class object and an instance object?\n",
        "\n",
        "Answer:- Class is Data Type,You use this type to create object. Instance is Logical but object is Physical means occupies some memory. object for those. Object is instance of class and instance means representative of class i.e object."
      ],
      "metadata": {
        "id": "jt28OLmn9xcn"
      }
    },
    {
      "cell_type": "code",
      "source": [],
      "metadata": {
        "id": "bJVuXze493z4"
      },
      "execution_count": null,
      "outputs": []
    },
    {
      "cell_type": "markdown",
      "source": [
        "## Q4. What makes the first argument in a class’s method function special?\n",
        "\n",
        "Answer:- This is the reason the first parameter of a function in class must be the object itself. Writing this parameter as self is merely a convention. It is not a keyword and has no special meaning in Python."
      ],
      "metadata": {
        "id": "nOdJFkTC94U3"
      }
    },
    {
      "cell_type": "code",
      "source": [],
      "metadata": {
        "id": "B_6PXjEv-b4h"
      },
      "execution_count": null,
      "outputs": []
    },
    {
      "cell_type": "markdown",
      "source": [
        "## Q5. What is the purpose of the __init__ method?\n",
        "\n",
        "Answer:- It is called as a constructor in object oriented terminology. This method is called when an object is created from a class and it allows the class to initialize the attributes of the class."
      ],
      "metadata": {
        "id": "norPLIxy-cS2"
      }
    },
    {
      "cell_type": "code",
      "source": [],
      "metadata": {
        "id": "Y91DGEh_-mOx"
      },
      "execution_count": null,
      "outputs": []
    },
    {
      "cell_type": "markdown",
      "source": [
        "## Q6. What is the process for creating a class instance?\n",
        "\n",
        "Answer:- To create instances of a class, you call the class using class name and pass in whatever arguments its __init__ method accepts"
      ],
      "metadata": {
        "id": "cZq-dI5z-ml_"
      }
    },
    {
      "cell_type": "code",
      "source": [],
      "metadata": {
        "id": "6JYPvC2K-uma"
      },
      "execution_count": null,
      "outputs": []
    },
    {
      "cell_type": "markdown",
      "source": [
        "## Q7. What is the process for creating a class?\n",
        "\n",
        "Answer:- Create a Class. To create a class, use the keyword class \n",
        "Create Object. Now we can use the class named MyClass to create objects\n",
        "The self Parameter\n",
        "Modify Object Properties\n",
        "Delete Object Properties\n",
        "Delete Objects"
      ],
      "metadata": {
        "id": "kXNkJ8vZ-v5P"
      }
    },
    {
      "cell_type": "markdown",
      "source": [
        "## Q8. How would you define the superclasses of a class?\n",
        "\n",
        "Answer:- A superclass is the class from which many subclasses can be created. The subclasses inherit the characteristics of a superclass. The superclass is also known as the parent class or base class. In the above example, Vehicle is the Superclass and its subclasses are Car, Truck and Motorcycle."
      ],
      "metadata": {
        "id": "JToEHdGK-v-A"
      }
    },
    {
      "cell_type": "code",
      "source": [],
      "metadata": {
        "id": "0DgGC6NR_hJR"
      },
      "execution_count": null,
      "outputs": []
    }
  ]
}