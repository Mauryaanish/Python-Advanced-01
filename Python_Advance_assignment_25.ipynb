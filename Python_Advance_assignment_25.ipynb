{
  "nbformat": 4,
  "nbformat_minor": 0,
  "metadata": {
    "colab": {
      "provenance": []
    },
    "kernelspec": {
      "name": "python3",
      "display_name": "Python 3"
    },
    "language_info": {
      "name": "python"
    }
  },
  "cells": [
    {
      "cell_type": "markdown",
      "source": [
        "Q1. What is the distinction between a numpy array and a pandas data frame? Is there a way to\n",
        "convert between the two if there is?\n",
        "\n",
        "Answer:- Numpy Ndarray provides a lot of convenient and optimized methods for performing several mathematical operations on vectors.\n",
        "\n",
        "Pandas Dataframe is an in-memory 2-dimensional tabular representation of data. In simpler words, it can be seen as a spreadsheet having rows and columns.\n",
        "\n",
        "Conversion : Dataframe=pandas.DataFrame(array)"
      ],
      "metadata": {
        "id": "GvhQpK3UQovd"
      }
    },
    {
      "cell_type": "code",
      "source": [],
      "metadata": {
        "id": "w1wHUmAtQuDv"
      },
      "execution_count": null,
      "outputs": []
    },
    {
      "cell_type": "markdown",
      "source": [
        "Q2. What can go wrong when an user enters in a stock-ticker symbol, and how do you handle it?\n",
        "\n",
        "Answer:- Bar chart, Line Chart, Candlestick chart (using mplfinance module) are used for plotting stock market chart."
      ],
      "metadata": {
        "id": "srBs_MGCQwd8"
      }
    },
    {
      "cell_type": "code",
      "source": [],
      "metadata": {
        "id": "kwtszbNFQ19m"
      },
      "execution_count": null,
      "outputs": []
    },
    {
      "cell_type": "markdown",
      "source": [
        "Q3. Identify some of the plotting techniques that are used to produce a stock-market chart.\n",
        "\n",
        "Answer:- Legend will help us in comparing different stocks in a stock market chart. Each plot of a Stock chart has a legend, its items representing the series on the plot. In addition, the legend displays information about the points that are currently hovered over or, if none are hovered over, about the last points shown on the plot. The text of a legend item includes the name of a series and, depending on the series type, the value or values of the current or last point. The legend title, enabled by default, shows the current or last date (X-value)."
      ],
      "metadata": {
        "id": "vqitrOu6Q2f8"
      }
    },
    {
      "cell_type": "code",
      "source": [],
      "metadata": {
        "id": "yW_I7r8YQ-zv"
      },
      "execution_count": null,
      "outputs": []
    },
    {
      "cell_type": "markdown",
      "source": [
        "Q5. What is the best way to limit the length of a pandas data frame to less than a year?\n",
        "\n",
        "Answer:- We can use start and end parameters for that. In start, we write the date from where we are starting and at the end, we write the end date. SO within this span we can restrict the duration. Also, we can use the parameters like periods i.e for how much times we need the duration and we can also use the frequency parameter for that."
      ],
      "metadata": {
        "id": "Eo3Yfj5KRGc-"
      }
    },
    {
      "cell_type": "code",
      "source": [],
      "metadata": {
        "id": "4e0fpvp7RT43"
      },
      "execution_count": null,
      "outputs": []
    },
    {
      "cell_type": "markdown",
      "source": [
        "Q6. What is the definition of a 180-day moving average?\n",
        "\n",
        "Answer:- The 180-day moving average is represented as a line on charts and represents the average price over the past 180 days. The moving average can give traders a sense regarding whether the trend is up or down, while also identifying potential support or resistance areas. A moving average (MA) is a stock indicator that is commonly used in technical analysis. The reason for calculating the moving average of a stock is to help smooth out the price data over a specified period of time by creating a constantly updated average price. A simple moving average (SMA) is a calculation that takes the arithmetic mean of a given set of prices over the specific number of days in the past; for example, in this case over 180 days."
      ],
      "metadata": {
        "id": "vGXplLLSRYN0"
      }
    },
    {
      "cell_type": "code",
      "source": [],
      "metadata": {
        "id": "SdaDi5eGRbW_"
      },
      "execution_count": null,
      "outputs": []
    }
  ]
}